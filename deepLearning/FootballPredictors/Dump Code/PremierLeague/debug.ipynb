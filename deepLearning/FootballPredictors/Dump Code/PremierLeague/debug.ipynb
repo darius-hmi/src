{
 "cells": [
  {
   "cell_type": "code",
   "execution_count": 5,
   "metadata": {},
   "outputs": [],
   "source": [
    "import pandas as pd\n",
    "from sklearn.preprocessing import LabelEncoder, StandardScaler\n",
    "from sklearn.model_selection import train_test_split, KFold\n",
    "from tensorflow.keras.models import Sequential\n",
    "from tensorflow.keras.layers import Dense\n",
    "import numpy as np\n",
    "from tensorflow.keras import regularizers\n",
    "from tensorflow.keras.layers import Dropout\n",
    "from tensorflow.keras.callbacks import EarlyStopping"
   ]
  },
  {
   "cell_type": "code",
   "execution_count": 23,
   "metadata": {},
   "outputs": [],
   "source": [
    "data = pd.read_csv('data/final44_newFeatures.csv')\n",
    "\n",
    "data = data.drop(columns=['Season'])\n",
    "\n",
    "ftr_map = {'H': 1, 'D': 0, 'A': -1}\n",
    "data['Result'] = data['Result'].map(ftr_map)\n",
    "\n",
    "label_encoder_home = LabelEncoder()\n",
    "label_encoder_away = LabelEncoder()\n",
    "data['Home'] = label_encoder_home.fit_transform(data['Home'])\n",
    "data['Away'] = label_encoder_away.fit_transform(data['Away'])\n",
    "\n",
    "corr_matrix = data.corr()\n",
    "\n",
    "result_corr = corr_matrix['Result'].sort_values(ascending=False)\n",
    "\n",
    "result_corr.to_csv('corr.csv')\n"
   ]
  }
 ],
 "metadata": {
  "kernelspec": {
   "display_name": "venv",
   "language": "python",
   "name": "python3"
  },
  "language_info": {
   "codemirror_mode": {
    "name": "ipython",
    "version": 3
   },
   "file_extension": ".py",
   "mimetype": "text/x-python",
   "name": "python",
   "nbconvert_exporter": "python",
   "pygments_lexer": "ipython3",
   "version": "3.12.3"
  }
 },
 "nbformat": 4,
 "nbformat_minor": 2
}
